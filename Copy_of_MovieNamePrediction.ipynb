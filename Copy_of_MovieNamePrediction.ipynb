{
  "nbformat": 4,
  "nbformat_minor": 0,
  "metadata": {
    "colab": {
      "provenance": []
    },
    "kernelspec": {
      "name": "python3",
      "display_name": "Python 3"
    },
    "language_info": {
      "name": "python"
    },
    "accelerator": "TPU",
    "gpuClass": "standard"
  },
  "cells": [
    {
      "cell_type": "code",
      "execution_count": null,
      "metadata": {
        "id": "jOekyK-SS9v8"
      },
      "outputs": [],
      "source": [
        "import pandas as pd\n",
        "import numpy as np\n",
        "import tensorflow as tf\n",
        "import pickle\n",
        "\n",
        "from keras.preprocessing.text import Tokenizer\n",
        "from tensorflow.keras.preprocessing.sequence import pad_sequences\n",
        "from keras.layers import Embedding, LSTM, Dense, Bidirectional, Dropout\n",
        "from keras.models import Sequential\n",
        "from keras.optimizers import Adam, RMSprop\n",
        "from keras.utils import to_categorical\n",
        "\n",
        "MAX_WORDS_FOR_PREDICTION = 4\n",
        "MAX_WORDS_TO_OUTPUT = 10"
      ]
    },
    {
      "cell_type": "code",
      "source": [
        "from google.colab import files\n",
        "uploaded = files.upload()"
      ],
      "metadata": {
        "colab": {
          "base_uri": "https://localhost:8080/",
          "height": 73
        },
        "id": "q5GElYY9ZTli",
        "outputId": "69f09cec-2a9b-4d0b-de65-bda344290fe3"
      },
      "execution_count": null,
      "outputs": [
        {
          "output_type": "display_data",
          "data": {
            "text/plain": [
              "<IPython.core.display.HTML object>"
            ],
            "text/html": [
              "\n",
              "     <input type=\"file\" id=\"files-1acc62ef-a7a9-44de-b984-dfa66ecb1335\" name=\"files[]\" multiple disabled\n",
              "        style=\"border:none\" />\n",
              "     <output id=\"result-1acc62ef-a7a9-44de-b984-dfa66ecb1335\">\n",
              "      Upload widget is only available when the cell has been executed in the\n",
              "      current browser session. Please rerun this cell to enable.\n",
              "      </output>\n",
              "      <script>// Copyright 2017 Google LLC\n",
              "//\n",
              "// Licensed under the Apache License, Version 2.0 (the \"License\");\n",
              "// you may not use this file except in compliance with the License.\n",
              "// You may obtain a copy of the License at\n",
              "//\n",
              "//      http://www.apache.org/licenses/LICENSE-2.0\n",
              "//\n",
              "// Unless required by applicable law or agreed to in writing, software\n",
              "// distributed under the License is distributed on an \"AS IS\" BASIS,\n",
              "// WITHOUT WARRANTIES OR CONDITIONS OF ANY KIND, either express or implied.\n",
              "// See the License for the specific language governing permissions and\n",
              "// limitations under the License.\n",
              "\n",
              "/**\n",
              " * @fileoverview Helpers for google.colab Python module.\n",
              " */\n",
              "(function(scope) {\n",
              "function span(text, styleAttributes = {}) {\n",
              "  const element = document.createElement('span');\n",
              "  element.textContent = text;\n",
              "  for (const key of Object.keys(styleAttributes)) {\n",
              "    element.style[key] = styleAttributes[key];\n",
              "  }\n",
              "  return element;\n",
              "}\n",
              "\n",
              "// Max number of bytes which will be uploaded at a time.\n",
              "const MAX_PAYLOAD_SIZE = 100 * 1024;\n",
              "\n",
              "function _uploadFiles(inputId, outputId) {\n",
              "  const steps = uploadFilesStep(inputId, outputId);\n",
              "  const outputElement = document.getElementById(outputId);\n",
              "  // Cache steps on the outputElement to make it available for the next call\n",
              "  // to uploadFilesContinue from Python.\n",
              "  outputElement.steps = steps;\n",
              "\n",
              "  return _uploadFilesContinue(outputId);\n",
              "}\n",
              "\n",
              "// This is roughly an async generator (not supported in the browser yet),\n",
              "// where there are multiple asynchronous steps and the Python side is going\n",
              "// to poll for completion of each step.\n",
              "// This uses a Promise to block the python side on completion of each step,\n",
              "// then passes the result of the previous step as the input to the next step.\n",
              "function _uploadFilesContinue(outputId) {\n",
              "  const outputElement = document.getElementById(outputId);\n",
              "  const steps = outputElement.steps;\n",
              "\n",
              "  const next = steps.next(outputElement.lastPromiseValue);\n",
              "  return Promise.resolve(next.value.promise).then((value) => {\n",
              "    // Cache the last promise value to make it available to the next\n",
              "    // step of the generator.\n",
              "    outputElement.lastPromiseValue = value;\n",
              "    return next.value.response;\n",
              "  });\n",
              "}\n",
              "\n",
              "/**\n",
              " * Generator function which is called between each async step of the upload\n",
              " * process.\n",
              " * @param {string} inputId Element ID of the input file picker element.\n",
              " * @param {string} outputId Element ID of the output display.\n",
              " * @return {!Iterable<!Object>} Iterable of next steps.\n",
              " */\n",
              "function* uploadFilesStep(inputId, outputId) {\n",
              "  const inputElement = document.getElementById(inputId);\n",
              "  inputElement.disabled = false;\n",
              "\n",
              "  const outputElement = document.getElementById(outputId);\n",
              "  outputElement.innerHTML = '';\n",
              "\n",
              "  const pickedPromise = new Promise((resolve) => {\n",
              "    inputElement.addEventListener('change', (e) => {\n",
              "      resolve(e.target.files);\n",
              "    });\n",
              "  });\n",
              "\n",
              "  const cancel = document.createElement('button');\n",
              "  inputElement.parentElement.appendChild(cancel);\n",
              "  cancel.textContent = 'Cancel upload';\n",
              "  const cancelPromise = new Promise((resolve) => {\n",
              "    cancel.onclick = () => {\n",
              "      resolve(null);\n",
              "    };\n",
              "  });\n",
              "\n",
              "  // Wait for the user to pick the files.\n",
              "  const files = yield {\n",
              "    promise: Promise.race([pickedPromise, cancelPromise]),\n",
              "    response: {\n",
              "      action: 'starting',\n",
              "    }\n",
              "  };\n",
              "\n",
              "  cancel.remove();\n",
              "\n",
              "  // Disable the input element since further picks are not allowed.\n",
              "  inputElement.disabled = true;\n",
              "\n",
              "  if (!files) {\n",
              "    return {\n",
              "      response: {\n",
              "        action: 'complete',\n",
              "      }\n",
              "    };\n",
              "  }\n",
              "\n",
              "  for (const file of files) {\n",
              "    const li = document.createElement('li');\n",
              "    li.append(span(file.name, {fontWeight: 'bold'}));\n",
              "    li.append(span(\n",
              "        `(${file.type || 'n/a'}) - ${file.size} bytes, ` +\n",
              "        `last modified: ${\n",
              "            file.lastModifiedDate ? file.lastModifiedDate.toLocaleDateString() :\n",
              "                                    'n/a'} - `));\n",
              "    const percent = span('0% done');\n",
              "    li.appendChild(percent);\n",
              "\n",
              "    outputElement.appendChild(li);\n",
              "\n",
              "    const fileDataPromise = new Promise((resolve) => {\n",
              "      const reader = new FileReader();\n",
              "      reader.onload = (e) => {\n",
              "        resolve(e.target.result);\n",
              "      };\n",
              "      reader.readAsArrayBuffer(file);\n",
              "    });\n",
              "    // Wait for the data to be ready.\n",
              "    let fileData = yield {\n",
              "      promise: fileDataPromise,\n",
              "      response: {\n",
              "        action: 'continue',\n",
              "      }\n",
              "    };\n",
              "\n",
              "    // Use a chunked sending to avoid message size limits. See b/62115660.\n",
              "    let position = 0;\n",
              "    do {\n",
              "      const length = Math.min(fileData.byteLength - position, MAX_PAYLOAD_SIZE);\n",
              "      const chunk = new Uint8Array(fileData, position, length);\n",
              "      position += length;\n",
              "\n",
              "      const base64 = btoa(String.fromCharCode.apply(null, chunk));\n",
              "      yield {\n",
              "        response: {\n",
              "          action: 'append',\n",
              "          file: file.name,\n",
              "          data: base64,\n",
              "        },\n",
              "      };\n",
              "\n",
              "      let percentDone = fileData.byteLength === 0 ?\n",
              "          100 :\n",
              "          Math.round((position / fileData.byteLength) * 100);\n",
              "      percent.textContent = `${percentDone}% done`;\n",
              "\n",
              "    } while (position < fileData.byteLength);\n",
              "  }\n",
              "\n",
              "  // All done.\n",
              "  yield {\n",
              "    response: {\n",
              "      action: 'complete',\n",
              "    }\n",
              "  };\n",
              "}\n",
              "\n",
              "scope.google = scope.google || {};\n",
              "scope.google.colab = scope.google.colab || {};\n",
              "scope.google.colab._files = {\n",
              "  _uploadFiles,\n",
              "  _uploadFilesContinue,\n",
              "};\n",
              "})(self);\n",
              "</script> "
            ]
          },
          "metadata": {}
        },
        {
          "output_type": "stream",
          "name": "stdout",
          "text": [
            "Saving Top_10000_Movies.csv to Top_10000_Movies.csv\n"
          ]
        }
      ]
    },
    {
      "cell_type": "code",
      "source": [
        "movies_data = pd.read_csv(\"Top_10000_Movies.csv\")[:1000]\n",
        "movies_data.tail()"
      ],
      "metadata": {
        "colab": {
          "base_uri": "https://localhost:8080/",
          "height": 704
        },
        "id": "nRMU38VDZd0Y",
        "outputId": "42c2f1e0-2b95-414f-bd31-48b23b259f5f"
      },
      "execution_count": null,
      "outputs": [
        {
          "output_type": "execute_result",
          "data": {
            "text/plain": [
              "           id original_language       original_title  popularity release_date  \\\n",
              "995    9902.0                en           Wrong Turn      59.786   2003-05-30   \n",
              "996  460555.0                zh                 红海行动      38.336   2018-02-16   \n",
              "997  320288.0                en         Dark Phoenix      54.704   2019-06-05   \n",
              "998  291805.0                en     Now You See Me 2      53.776   2016-06-02   \n",
              "999   23827.0                en  Paranormal Activity      57.510   2007-09-14   \n",
              "\n",
              "     vote_average  vote_count                                       genre  \\\n",
              "995           6.3      1901.0                      ['Horror', 'Thriller']   \n",
              "996           6.8       143.0      ['Action', 'Thriller', 'War', 'Drama']   \n",
              "997           6.0      4870.0  ['Science Fiction', 'Action', 'Adventure']   \n",
              "998           6.8      9060.0            ['Thriller', 'Action', 'Comedy']   \n",
              "999           6.0      3939.0                       ['Horror', 'Mystery']   \n",
              "\n",
              "                                              overview      revenue  runtime  \\\n",
              "995  Chris crashes into a carload of other young pe...   28650575.0     84.0   \n",
              "996  A squad of the Jiaolong Commando Unit - Sea Dr...  579220560.0    142.0   \n",
              "997  The X-Men face their most formidable and power...  252442974.0    114.0   \n",
              "998  One year after outwitting the FBI and winning ...  334901337.0    129.0   \n",
              "999  After a young, middle-class couple moves into ...  194183034.0     86.0   \n",
              "\n",
              "                                 tagline  \n",
              "995  It's the last one you'll ever take.  \n",
              "996                                  NaN  \n",
              "997               The Phoenix will rise.  \n",
              "998       You haven't seen anything yet.  \n",
              "999         What Happens When You Sleep?  "
            ],
            "text/html": [
              "\n",
              "  <div id=\"df-a2dd3292-b626-4a38-9f32-95759912156d\">\n",
              "    <div class=\"colab-df-container\">\n",
              "      <div>\n",
              "<style scoped>\n",
              "    .dataframe tbody tr th:only-of-type {\n",
              "        vertical-align: middle;\n",
              "    }\n",
              "\n",
              "    .dataframe tbody tr th {\n",
              "        vertical-align: top;\n",
              "    }\n",
              "\n",
              "    .dataframe thead th {\n",
              "        text-align: right;\n",
              "    }\n",
              "</style>\n",
              "<table border=\"1\" class=\"dataframe\">\n",
              "  <thead>\n",
              "    <tr style=\"text-align: right;\">\n",
              "      <th></th>\n",
              "      <th>id</th>\n",
              "      <th>original_language</th>\n",
              "      <th>original_title</th>\n",
              "      <th>popularity</th>\n",
              "      <th>release_date</th>\n",
              "      <th>vote_average</th>\n",
              "      <th>vote_count</th>\n",
              "      <th>genre</th>\n",
              "      <th>overview</th>\n",
              "      <th>revenue</th>\n",
              "      <th>runtime</th>\n",
              "      <th>tagline</th>\n",
              "    </tr>\n",
              "  </thead>\n",
              "  <tbody>\n",
              "    <tr>\n",
              "      <th>995</th>\n",
              "      <td>9902.0</td>\n",
              "      <td>en</td>\n",
              "      <td>Wrong Turn</td>\n",
              "      <td>59.786</td>\n",
              "      <td>2003-05-30</td>\n",
              "      <td>6.3</td>\n",
              "      <td>1901.0</td>\n",
              "      <td>['Horror', 'Thriller']</td>\n",
              "      <td>Chris crashes into a carload of other young pe...</td>\n",
              "      <td>28650575.0</td>\n",
              "      <td>84.0</td>\n",
              "      <td>It's the last one you'll ever take.</td>\n",
              "    </tr>\n",
              "    <tr>\n",
              "      <th>996</th>\n",
              "      <td>460555.0</td>\n",
              "      <td>zh</td>\n",
              "      <td>红海行动</td>\n",
              "      <td>38.336</td>\n",
              "      <td>2018-02-16</td>\n",
              "      <td>6.8</td>\n",
              "      <td>143.0</td>\n",
              "      <td>['Action', 'Thriller', 'War', 'Drama']</td>\n",
              "      <td>A squad of the Jiaolong Commando Unit - Sea Dr...</td>\n",
              "      <td>579220560.0</td>\n",
              "      <td>142.0</td>\n",
              "      <td>NaN</td>\n",
              "    </tr>\n",
              "    <tr>\n",
              "      <th>997</th>\n",
              "      <td>320288.0</td>\n",
              "      <td>en</td>\n",
              "      <td>Dark Phoenix</td>\n",
              "      <td>54.704</td>\n",
              "      <td>2019-06-05</td>\n",
              "      <td>6.0</td>\n",
              "      <td>4870.0</td>\n",
              "      <td>['Science Fiction', 'Action', 'Adventure']</td>\n",
              "      <td>The X-Men face their most formidable and power...</td>\n",
              "      <td>252442974.0</td>\n",
              "      <td>114.0</td>\n",
              "      <td>The Phoenix will rise.</td>\n",
              "    </tr>\n",
              "    <tr>\n",
              "      <th>998</th>\n",
              "      <td>291805.0</td>\n",
              "      <td>en</td>\n",
              "      <td>Now You See Me 2</td>\n",
              "      <td>53.776</td>\n",
              "      <td>2016-06-02</td>\n",
              "      <td>6.8</td>\n",
              "      <td>9060.0</td>\n",
              "      <td>['Thriller', 'Action', 'Comedy']</td>\n",
              "      <td>One year after outwitting the FBI and winning ...</td>\n",
              "      <td>334901337.0</td>\n",
              "      <td>129.0</td>\n",
              "      <td>You haven't seen anything yet.</td>\n",
              "    </tr>\n",
              "    <tr>\n",
              "      <th>999</th>\n",
              "      <td>23827.0</td>\n",
              "      <td>en</td>\n",
              "      <td>Paranormal Activity</td>\n",
              "      <td>57.510</td>\n",
              "      <td>2007-09-14</td>\n",
              "      <td>6.0</td>\n",
              "      <td>3939.0</td>\n",
              "      <td>['Horror', 'Mystery']</td>\n",
              "      <td>After a young, middle-class couple moves into ...</td>\n",
              "      <td>194183034.0</td>\n",
              "      <td>86.0</td>\n",
              "      <td>What Happens When You Sleep?</td>\n",
              "    </tr>\n",
              "  </tbody>\n",
              "</table>\n",
              "</div>\n",
              "      <button class=\"colab-df-convert\" onclick=\"convertToInteractive('df-a2dd3292-b626-4a38-9f32-95759912156d')\"\n",
              "              title=\"Convert this dataframe to an interactive table.\"\n",
              "              style=\"display:none;\">\n",
              "        \n",
              "  <svg xmlns=\"http://www.w3.org/2000/svg\" height=\"24px\"viewBox=\"0 0 24 24\"\n",
              "       width=\"24px\">\n",
              "    <path d=\"M0 0h24v24H0V0z\" fill=\"none\"/>\n",
              "    <path d=\"M18.56 5.44l.94 2.06.94-2.06 2.06-.94-2.06-.94-.94-2.06-.94 2.06-2.06.94zm-11 1L8.5 8.5l.94-2.06 2.06-.94-2.06-.94L8.5 2.5l-.94 2.06-2.06.94zm10 10l.94 2.06.94-2.06 2.06-.94-2.06-.94-.94-2.06-.94 2.06-2.06.94z\"/><path d=\"M17.41 7.96l-1.37-1.37c-.4-.4-.92-.59-1.43-.59-.52 0-1.04.2-1.43.59L10.3 9.45l-7.72 7.72c-.78.78-.78 2.05 0 2.83L4 21.41c.39.39.9.59 1.41.59.51 0 1.02-.2 1.41-.59l7.78-7.78 2.81-2.81c.8-.78.8-2.07 0-2.86zM5.41 20L4 18.59l7.72-7.72 1.47 1.35L5.41 20z\"/>\n",
              "  </svg>\n",
              "      </button>\n",
              "      \n",
              "  <style>\n",
              "    .colab-df-container {\n",
              "      display:flex;\n",
              "      flex-wrap:wrap;\n",
              "      gap: 12px;\n",
              "    }\n",
              "\n",
              "    .colab-df-convert {\n",
              "      background-color: #E8F0FE;\n",
              "      border: none;\n",
              "      border-radius: 50%;\n",
              "      cursor: pointer;\n",
              "      display: none;\n",
              "      fill: #1967D2;\n",
              "      height: 32px;\n",
              "      padding: 0 0 0 0;\n",
              "      width: 32px;\n",
              "    }\n",
              "\n",
              "    .colab-df-convert:hover {\n",
              "      background-color: #E2EBFA;\n",
              "      box-shadow: 0px 1px 2px rgba(60, 64, 67, 0.3), 0px 1px 3px 1px rgba(60, 64, 67, 0.15);\n",
              "      fill: #174EA6;\n",
              "    }\n",
              "\n",
              "    [theme=dark] .colab-df-convert {\n",
              "      background-color: #3B4455;\n",
              "      fill: #D2E3FC;\n",
              "    }\n",
              "\n",
              "    [theme=dark] .colab-df-convert:hover {\n",
              "      background-color: #434B5C;\n",
              "      box-shadow: 0px 1px 3px 1px rgba(0, 0, 0, 0.15);\n",
              "      filter: drop-shadow(0px 1px 2px rgba(0, 0, 0, 0.3));\n",
              "      fill: #FFFFFF;\n",
              "    }\n",
              "  </style>\n",
              "\n",
              "      <script>\n",
              "        const buttonEl =\n",
              "          document.querySelector('#df-a2dd3292-b626-4a38-9f32-95759912156d button.colab-df-convert');\n",
              "        buttonEl.style.display =\n",
              "          google.colab.kernel.accessAllowed ? 'block' : 'none';\n",
              "\n",
              "        async function convertToInteractive(key) {\n",
              "          const element = document.querySelector('#df-a2dd3292-b626-4a38-9f32-95759912156d');\n",
              "          const dataTable =\n",
              "            await google.colab.kernel.invokeFunction('convertToInteractive',\n",
              "                                                     [key], {});\n",
              "          if (!dataTable) return;\n",
              "\n",
              "          const docLinkHtml = 'Like what you see? Visit the ' +\n",
              "            '<a target=\"_blank\" href=https://colab.research.google.com/notebooks/data_table.ipynb>data table notebook</a>'\n",
              "            + ' to learn more about interactive tables.';\n",
              "          element.innerHTML = '';\n",
              "          dataTable['output_type'] = 'display_data';\n",
              "          await google.colab.output.renderOutput(dataTable, element);\n",
              "          const docLink = document.createElement('div');\n",
              "          docLink.innerHTML = docLinkHtml;\n",
              "          element.appendChild(docLink);\n",
              "        }\n",
              "      </script>\n",
              "    </div>\n",
              "  </div>\n",
              "  "
            ]
          },
          "metadata": {},
          "execution_count": 4
        }
      ]
    },
    {
      "cell_type": "code",
      "source": [
        "movie_names = movies_data[\"original_title\"].astype(str).tolist()\n",
        "movie_names[2]"
      ],
      "metadata": {
        "colab": {
          "base_uri": "https://localhost:8080/",
          "height": 35
        },
        "id": "CQszCJWTZnK4",
        "outputId": "e6c5f236-338a-44a9-ff5e-3a50707c5457"
      },
      "execution_count": null,
      "outputs": [
        {
          "output_type": "execute_result",
          "data": {
            "text/plain": [
              "'Dune'"
            ],
            "application/vnd.google.colaboratory.intrinsic+json": {
              "type": "string"
            }
          },
          "metadata": {},
          "execution_count": 5
        }
      ]
    },
    {
      "cell_type": "code",
      "source": [
        "type(movie_names)"
      ],
      "metadata": {
        "colab": {
          "base_uri": "https://localhost:8080/"
        },
        "id": "DZm3gzv8av7n",
        "outputId": "825c9150-ab26-411d-e3f4-af6ec5978588"
      },
      "execution_count": null,
      "outputs": [
        {
          "output_type": "execute_result",
          "data": {
            "text/plain": [
              "list"
            ]
          },
          "metadata": {},
          "execution_count": 6
        }
      ]
    },
    {
      "cell_type": "code",
      "source": [
        "tokenizer = Tokenizer()\n",
        "tokenizer.fit_on_texts(movie_names)\n",
        "# saving the tokenizer for predict function\n",
        "pickle.dump(tokenizer, open('token.pkl', 'wb'))\n",
        "vocab_length = len(tokenizer.word_index) + 1"
      ],
      "metadata": {
        "id": "BRGHpuvWZz4V"
      },
      "execution_count": null,
      "outputs": []
    },
    {
      "cell_type": "code",
      "source": [
        "X = []\n",
        "y = []\n",
        "max_sequence_len = 0\n",
        "print(\"Unique words : \", vocab_length)\n",
        "for name in movie_names:\n",
        "  if len(name) > 1:\n",
        "    tokens = tokenizer.texts_to_sequences([name])[0]\n",
        "    tokens_length = len(tokens)\n",
        "    if tokens_length > max_sequence_len:\n",
        "      max_sequence_len = tokens_length\n",
        "\n",
        "    for i in range(1, tokens_length):\n",
        "      X.append(tokens[:i])\n",
        "      y.append(tokens[i])\n",
        "\n",
        "for i in range(10):\n",
        "  print(X[i], y[i])"
      ],
      "metadata": {
        "colab": {
          "base_uri": "https://localhost:8080/",
          "height": 235
        },
        "id": "i-_74hMleU-T",
        "outputId": "639454ac-46ad-4aa6-afc0-ecb61fbee2a5"
      },
      "execution_count": null,
      "outputs": [
        {
          "output_type": "error",
          "ename": "NameError",
          "evalue": "ignored",
          "traceback": [
            "\u001b[0;31m---------------------------------------------------------------------------\u001b[0m",
            "\u001b[0;31mNameError\u001b[0m                                 Traceback (most recent call last)",
            "\u001b[0;32m<ipython-input-1-287bc344680f>\u001b[0m in \u001b[0;36m<module>\u001b[0;34m\u001b[0m\n\u001b[1;32m      2\u001b[0m \u001b[0my\u001b[0m \u001b[0;34m=\u001b[0m \u001b[0;34m[\u001b[0m\u001b[0;34m]\u001b[0m\u001b[0;34m\u001b[0m\u001b[0;34m\u001b[0m\u001b[0m\n\u001b[1;32m      3\u001b[0m \u001b[0mmax_sequence_len\u001b[0m \u001b[0;34m=\u001b[0m \u001b[0;36m0\u001b[0m\u001b[0;34m\u001b[0m\u001b[0;34m\u001b[0m\u001b[0m\n\u001b[0;32m----> 4\u001b[0;31m \u001b[0mprint\u001b[0m\u001b[0;34m(\u001b[0m\u001b[0;34m\"Unique words : \"\u001b[0m\u001b[0;34m,\u001b[0m \u001b[0mvocab_length\u001b[0m\u001b[0;34m)\u001b[0m\u001b[0;34m\u001b[0m\u001b[0;34m\u001b[0m\u001b[0m\n\u001b[0m\u001b[1;32m      5\u001b[0m \u001b[0;32mfor\u001b[0m \u001b[0mname\u001b[0m \u001b[0;32min\u001b[0m \u001b[0mmovie_names\u001b[0m\u001b[0;34m:\u001b[0m\u001b[0;34m\u001b[0m\u001b[0;34m\u001b[0m\u001b[0m\n\u001b[1;32m      6\u001b[0m   \u001b[0;32mif\u001b[0m \u001b[0mlen\u001b[0m\u001b[0;34m(\u001b[0m\u001b[0mname\u001b[0m\u001b[0;34m)\u001b[0m \u001b[0;34m>\u001b[0m \u001b[0;36m1\u001b[0m\u001b[0;34m:\u001b[0m\u001b[0;34m\u001b[0m\u001b[0;34m\u001b[0m\u001b[0m\n",
            "\u001b[0;31mNameError\u001b[0m: name 'vocab_length' is not defined"
          ]
        }
      ]
    },
    {
      "cell_type": "code",
      "source": [
        "X = np.array(pad_sequences(X, maxlen=max_sequence_len, padding='pre'))\n",
        "print(len(X[1]))"
      ],
      "metadata": {
        "colab": {
          "base_uri": "https://localhost:8080/"
        },
        "id": "8EMxmNOViD6y",
        "outputId": "61409269-d52b-4968-ab49-0f8f93a8fd10"
      },
      "execution_count": null,
      "outputs": [
        {
          "output_type": "stream",
          "name": "stdout",
          "text": [
            "11\n"
          ]
        }
      ]
    },
    {
      "cell_type": "code",
      "source": [
        "y = to_categorical(y, num_classes=vocab_length)\n",
        "y[:5]\n",
        "\n"
      ],
      "metadata": {
        "colab": {
          "base_uri": "https://localhost:8080/"
        },
        "id": "q2KXkQWUiZhi",
        "outputId": "157de5be-4564-44de-cd12-5707fe03e3cc"
      },
      "execution_count": null,
      "outputs": [
        {
          "output_type": "execute_result",
          "data": {
            "text/plain": [
              "array([[0., 0., 0., ..., 0., 0., 0.],\n",
              "       [0., 0., 0., ..., 0., 0., 0.],\n",
              "       [0., 0., 0., ..., 0., 0., 0.],\n",
              "       [0., 0., 0., ..., 0., 0., 0.],\n",
              "       [0., 0., 1., ..., 0., 0., 0.]], dtype=float32)"
            ]
          },
          "metadata": {},
          "execution_count": 10
        }
      ]
    },
    {
      "cell_type": "code",
      "source": [
        "print(max_sequence_len)"
      ],
      "metadata": {
        "colab": {
          "base_uri": "https://localhost:8080/"
        },
        "id": "3nsA0X7kqgv3",
        "outputId": "1d59a888-eeca-4a6a-be9c-2ad8deec377b"
      },
      "execution_count": null,
      "outputs": [
        {
          "output_type": "stream",
          "name": "stdout",
          "text": [
            "11\n"
          ]
        }
      ]
    },
    {
      "cell_type": "code",
      "source": [
        "type(X)"
      ],
      "metadata": {
        "colab": {
          "base_uri": "https://localhost:8080/"
        },
        "id": "xwKdP3qir_4K",
        "outputId": "1d35cbb1-7708-4820-aa8f-a5dddf29a8b2"
      },
      "execution_count": null,
      "outputs": [
        {
          "output_type": "execute_result",
          "data": {
            "text/plain": [
              "numpy.ndarray"
            ]
          },
          "metadata": {},
          "execution_count": 12
        }
      ]
    },
    {
      "cell_type": "code",
      "source": [
        "#make model\n",
        "model = Sequential()\n",
        "model.add(Embedding(vocab_length, 100, input_length=max_sequence_len))\n",
        "model.add(Bidirectional(LSTM(1000)))\n",
        "model.add(Dense(vocab_length, activation='softmax'))"
      ],
      "metadata": {
        "id": "QvjJ9pJbjWmP"
      },
      "execution_count": null,
      "outputs": []
    },
    {
      "cell_type": "code",
      "source": [
        "from tensorflow import keras\n",
        "from keras.utils.vis_utils import plot_model\n",
        "\n",
        "plot_model(model, to_file=\"plot.png\", show_layer_names=True)"
      ],
      "metadata": {
        "colab": {
          "base_uri": "https://localhost:8080/",
          "height": 369
        },
        "id": "aby6CgNsmoQW",
        "outputId": "1d45bba7-f712-4f19-8d15-b651b48f96cf"
      },
      "execution_count": null,
      "outputs": [
        {
          "output_type": "execute_result",
          "data": {
            "image/png": "[encoded data removed]",
            "text/plain": [
              "<IPython.core.display.Image object>"
            ]
          },
          "metadata": {},
          "execution_count": 14
        }
      ]
    },
    {
      "cell_type": "code",
      "source": [
        "from keras.callbacks import ModelCheckpoint\n",
        "\n",
        "checkpoint_file = \"movie_names_model.h5\"\n",
        "checkpoint = ModelCheckpoint(checkpoint_file, monitor='loss', verbose=1, save_best_only=True)\n",
        "model.compile(loss=\"categorical_crossentropy\", optimizer=Adam(learning_rate=0.001), metrics=['accuracy'])\n",
        "model.fit(X, y, epochs=50, batch_size=2, callbacks=[checkpoint], verbose=1)"
      ],
      "metadata": {
        "id": "LYkxntPenDT-",
        "colab": {
          "base_uri": "https://localhost:8080/"
        },
        "outputId": "1356db04-188b-451c-cc14-86b1b9efff25"
      },
      "execution_count": null,
      "outputs": [
        {
          "output_type": "stream",
          "name": "stdout",
          "text": [
            "Epoch 1/50\n",
            "976/980 [============================>.] - ETA: 0s - loss: 1.4483 - accuracy: 0.6562\n",
            "Epoch 1: loss improved from inf to 1.44864, saving model to movie_names_model.h5\n",
            "980/980 [==============================] - 16s 13ms/step - loss: 1.4486 - accuracy: 0.6554\n",
            "Epoch 2/50\n",
            "977/980 [============================>.] - ETA: 0s - loss: 0.9533 - accuracy: 0.7615\n",
            "Epoch 2: loss improved from 1.44864 to 0.95269, saving model to movie_names_model.h5\n",
            "980/980 [==============================] - 12s 13ms/step - loss: 0.9527 - accuracy: 0.7616\n",
            "Epoch 3/50\n",
            "977/980 [============================>.] - ETA: 0s - loss: 0.8322 - accuracy: 0.7886\n",
            "Epoch 3: loss improved from 0.95269 to 0.83515, saving model to movie_names_model.h5\n",
            "980/980 [==============================] - 13s 13ms/step - loss: 0.8351 - accuracy: 0.7882\n",
            "Epoch 4/50\n",
            "977/980 [============================>.] - ETA: 0s - loss: 0.7829 - accuracy: 0.7912\n",
            "Epoch 4: loss improved from 0.83515 to 0.78099, saving model to movie_names_model.h5\n",
            "980/980 [==============================] - 13s 13ms/step - loss: 0.7810 - accuracy: 0.7917\n",
            "Epoch 5/50\n",
            "980/980 [==============================] - ETA: 0s - loss: 0.7657 - accuracy: 0.7933\n",
            "Epoch 5: loss improved from 0.78099 to 0.76565, saving model to movie_names_model.h5\n",
            "980/980 [==============================] - 15s 16ms/step - loss: 0.7657 - accuracy: 0.7933\n",
            "Epoch 6/50\n",
            "979/980 [============================>.] - ETA: 0s - loss: 0.7539 - accuracy: 0.7906\n",
            "Epoch 6: loss improved from 0.76565 to 0.75634, saving model to movie_names_model.h5\n",
            "980/980 [==============================] - 13s 13ms/step - loss: 0.7563 - accuracy: 0.7902\n",
            "Epoch 7/50\n",
            "977/980 [============================>.] - ETA: 0s - loss: 0.7834 - accuracy: 0.7789\n",
            "Epoch 7: loss did not improve from 0.75634\n",
            "980/980 [==============================] - 12s 12ms/step - loss: 0.7853 - accuracy: 0.7785\n",
            "Epoch 8/50\n",
            "979/980 [============================>.] - ETA: 0s - loss: 0.8112 - accuracy: 0.7717\n",
            "Epoch 8: loss did not improve from 0.75634\n",
            "980/980 [==============================] - 13s 13ms/step - loss: 0.8115 - accuracy: 0.7713\n",
            "Epoch 9/50\n",
            "979/980 [============================>.] - ETA: 0s - loss: 0.7731 - accuracy: 0.7763\n",
            "Epoch 9: loss did not improve from 0.75634\n",
            "980/980 [==============================] - 12s 12ms/step - loss: 0.7755 - accuracy: 0.7759\n",
            "Epoch 10/50\n",
            "976/980 [============================>.] - ETA: 0s - loss: 0.7065 - accuracy: 0.7900\n",
            "Epoch 10: loss improved from 0.75634 to 0.70964, saving model to movie_names_model.h5\n",
            "980/980 [==============================] - 13s 13ms/step - loss: 0.7096 - accuracy: 0.7892\n",
            "Epoch 11/50\n",
            "977/980 [============================>.] - ETA: 0s - loss: 0.7030 - accuracy: 0.7902\n",
            "Epoch 11: loss improved from 0.70964 to 0.70123, saving model to movie_names_model.h5\n",
            "980/980 [==============================] - 13s 13ms/step - loss: 0.7012 - accuracy: 0.7907\n",
            "Epoch 12/50\n",
            "980/980 [==============================] - ETA: 0s - loss: 0.6784 - accuracy: 0.7984\n",
            "Epoch 12: loss improved from 0.70123 to 0.67837, saving model to movie_names_model.h5\n",
            "980/980 [==============================] - 13s 13ms/step - loss: 0.6784 - accuracy: 0.7984\n",
            "Epoch 13/50\n",
            "980/980 [==============================] - ETA: 0s - loss: 0.6667 - accuracy: 0.7938\n",
            "Epoch 13: loss improved from 0.67837 to 0.66669, saving model to movie_names_model.h5\n",
            "980/980 [==============================] - 13s 13ms/step - loss: 0.6667 - accuracy: 0.7938\n",
            "Epoch 14/50\n",
            "978/980 [============================>.] - ETA: 0s - loss: 0.6624 - accuracy: 0.7986\n",
            "Epoch 14: loss improved from 0.66669 to 0.66135, saving model to movie_names_model.h5\n",
            "980/980 [==============================] - 13s 13ms/step - loss: 0.6614 - accuracy: 0.7989\n",
            "Epoch 15/50\n",
            "980/980 [==============================] - ETA: 0s - loss: 0.6536 - accuracy: 0.8004\n",
            "Epoch 15: loss improved from 0.66135 to 0.65361, saving model to movie_names_model.h5\n",
            "980/980 [==============================] - 13s 13ms/step - loss: 0.6536 - accuracy: 0.8004\n",
            "Epoch 16/50\n",
            "978/980 [============================>.] - ETA: 0s - loss: 0.6628 - accuracy: 0.7965\n",
            "Epoch 16: loss did not improve from 0.65361\n",
            "980/980 [==============================] - 12s 13ms/step - loss: 0.6622 - accuracy: 0.7968\n",
            "Epoch 17/50\n",
            "977/980 [============================>.] - ETA: 0s - loss: 0.6630 - accuracy: 0.7948\n",
            "Epoch 17: loss did not improve from 0.65361\n",
            "980/980 [==============================] - 13s 13ms/step - loss: 0.6637 - accuracy: 0.7938\n",
            "Epoch 18/50\n",
            "977/980 [============================>.] - ETA: 0s - loss: 0.6688 - accuracy: 0.7932\n",
            "Epoch 18: loss did not improve from 0.65361\n",
            "980/980 [==============================] - 12s 13ms/step - loss: 0.6679 - accuracy: 0.7933\n",
            "Epoch 19/50\n",
            "976/980 [============================>.] - ETA: 0s - loss: 0.6705 - accuracy: 0.7864\n",
            "Epoch 19: loss did not improve from 0.65361\n",
            "980/980 [==============================] - 12s 12ms/step - loss: 0.6717 - accuracy: 0.7856\n",
            "Epoch 20/50\n",
            "978/980 [============================>.] - ETA: 0s - loss: 0.6708 - accuracy: 0.7904\n",
            "Epoch 20: loss did not improve from 0.65361\n",
            "980/980 [==============================] - 12s 13ms/step - loss: 0.6697 - accuracy: 0.7907\n",
            "Epoch 21/50\n",
            "977/980 [============================>.] - ETA: 0s - loss: 0.6467 - accuracy: 0.7948\n",
            "Epoch 21: loss improved from 0.65361 to 0.64634, saving model to movie_names_model.h5\n",
            "980/980 [==============================] - 13s 13ms/step - loss: 0.6463 - accuracy: 0.7948\n",
            "Epoch 22/50\n",
            "978/980 [============================>.] - ETA: 0s - loss: 0.6265 - accuracy: 0.7955\n",
            "Epoch 22: loss improved from 0.64634 to 0.62735, saving model to movie_names_model.h5\n",
            "980/980 [==============================] - 13s 13ms/step - loss: 0.6274 - accuracy: 0.7953\n",
            "Epoch 23/50\n",
            "980/980 [==============================] - ETA: 0s - loss: 0.6107 - accuracy: 0.7948\n",
            "Epoch 23: loss improved from 0.62735 to 0.61070, saving model to movie_names_model.h5\n",
            "980/980 [==============================] - 13s 13ms/step - loss: 0.6107 - accuracy: 0.7948\n",
            "Epoch 24/50\n",
            "979/980 [============================>.] - ETA: 0s - loss: 0.6106 - accuracy: 0.7998\n",
            "Epoch 24: loss improved from 0.61070 to 0.61026, saving model to movie_names_model.h5\n",
            "980/980 [==============================] - 13s 13ms/step - loss: 0.6103 - accuracy: 0.7999\n",
            "Epoch 25/50\n",
            "977/980 [============================>.] - ETA: 0s - loss: 0.6095 - accuracy: 0.8019\n",
            "Epoch 25: loss improved from 0.61026 to 0.60886, saving model to movie_names_model.h5\n",
            "980/980 [==============================] - 13s 13ms/step - loss: 0.6089 - accuracy: 0.8019\n",
            "Epoch 26/50\n",
            "979/980 [============================>.] - ETA: 0s - loss: 0.6131 - accuracy: 0.7967\n",
            "Epoch 26: loss did not improve from 0.60886\n",
            "980/980 [==============================] - 13s 13ms/step - loss: 0.6128 - accuracy: 0.7968\n",
            "Epoch 27/50\n",
            "977/980 [============================>.] - ETA: 0s - loss: 0.6064 - accuracy: 0.7963\n",
            "Epoch 27: loss improved from 0.60886 to 0.60484, saving model to movie_names_model.h5\n",
            "980/980 [==============================] - 13s 13ms/step - loss: 0.6048 - accuracy: 0.7968\n",
            "Epoch 28/50\n",
            "978/980 [============================>.] - ETA: 0s - loss: 0.6552 - accuracy: 0.7899\n",
            "Epoch 28: loss did not improve from 0.60484\n",
            "980/980 [==============================] - 12s 12ms/step - loss: 0.6569 - accuracy: 0.7897\n",
            "Epoch 29/50\n",
            "977/980 [============================>.] - ETA: 0s - loss: 0.6578 - accuracy: 0.7851\n",
            "Epoch 29: loss did not improve from 0.60484\n",
            "980/980 [==============================] - 12s 12ms/step - loss: 0.6574 - accuracy: 0.7846\n",
            "Epoch 30/50\n",
            "978/980 [============================>.] - ETA: 0s - loss: 0.6058 - accuracy: 0.7945\n",
            "Epoch 30: loss did not improve from 0.60484\n",
            "980/980 [==============================] - 13s 13ms/step - loss: 0.6060 - accuracy: 0.7943\n",
            "Epoch 31/50\n",
            "978/980 [============================>.] - ETA: 0s - loss: 0.5938 - accuracy: 0.8006\n",
            "Epoch 31: loss improved from 0.60484 to 0.59290, saving model to movie_names_model.h5\n",
            "980/980 [==============================] - 13s 13ms/step - loss: 0.5929 - accuracy: 0.8009\n",
            "Epoch 32/50\n",
            "977/980 [============================>.] - ETA: 0s - loss: 0.5850 - accuracy: 0.7958\n",
            "Epoch 32: loss improved from 0.59290 to 0.58513, saving model to movie_names_model.h5\n",
            "980/980 [==============================] - 13s 13ms/step - loss: 0.5851 - accuracy: 0.7953\n",
            "Epoch 33/50\n",
            "976/980 [============================>.] - ETA: 0s - loss: 0.5828 - accuracy: 0.8048\n",
            "Epoch 33: loss improved from 0.58513 to 0.58287, saving model to movie_names_model.h5\n",
            "980/980 [==============================] - 13s 13ms/step - loss: 0.5829 - accuracy: 0.8040\n",
            "Epoch 34/50\n",
            "976/980 [============================>.] - ETA: 0s - loss: 0.5843 - accuracy: 0.8017\n",
            "Epoch 34: loss did not improve from 0.58287\n",
            "980/980 [==============================] - 12s 12ms/step - loss: 0.5847 - accuracy: 0.8014\n",
            "Epoch 35/50\n",
            "976/980 [============================>.] - ETA: 0s - loss: 0.5833 - accuracy: 0.8043\n",
            "Epoch 35: loss did not improve from 0.58287\n",
            "980/980 [==============================] - 13s 13ms/step - loss: 0.5834 - accuracy: 0.8040\n",
            "Epoch 36/50\n",
            "979/980 [============================>.] - ETA: 0s - loss: 0.5926 - accuracy: 0.8003\n",
            "Epoch 36: loss did not improve from 0.58287\n",
            "980/980 [==============================] - 12s 13ms/step - loss: 0.5929 - accuracy: 0.7999\n",
            "Epoch 37/50\n",
            "980/980 [==============================] - ETA: 0s - loss: 0.5777 - accuracy: 0.8009\n",
            "Epoch 37: loss improved from 0.58287 to 0.57765, saving model to movie_names_model.h5\n",
            "980/980 [==============================] - 13s 13ms/step - loss: 0.5777 - accuracy: 0.8009\n",
            "Epoch 38/50\n",
            "976/980 [============================>.] - ETA: 0s - loss: 0.5980 - accuracy: 0.7971\n",
            "Epoch 38: loss did not improve from 0.57765\n",
            "980/980 [==============================] - 12s 13ms/step - loss: 0.5969 - accuracy: 0.7973\n",
            "Epoch 39/50\n",
            "980/980 [==============================] - ETA: 0s - loss: 0.6188 - accuracy: 0.7907\n",
            "Epoch 39: loss did not improve from 0.57765\n",
            "980/980 [==============================] - 13s 13ms/step - loss: 0.6188 - accuracy: 0.7907\n",
            "Epoch 40/50\n",
            "977/980 [============================>.] - ETA: 0s - loss: 0.5984 - accuracy: 0.7968\n",
            "Epoch 40: loss did not improve from 0.57765\n",
            "980/980 [==============================] - 12s 12ms/step - loss: 0.5995 - accuracy: 0.7968\n",
            "Epoch 41/50\n",
            "979/980 [============================>.] - ETA: 0s - loss: 0.5701 - accuracy: 0.8018\n",
            "Epoch 41: loss improved from 0.57765 to 0.56981, saving model to movie_names_model.h5\n",
            "980/980 [==============================] - 13s 13ms/step - loss: 0.5698 - accuracy: 0.8019\n",
            "Epoch 42/50\n",
            "978/980 [============================>.] - ETA: 0s - loss: 0.5653 - accuracy: 0.8011\n",
            "Epoch 42: loss improved from 0.56981 to 0.56489, saving model to movie_names_model.h5\n",
            "980/980 [==============================] - 13s 13ms/step - loss: 0.5649 - accuracy: 0.8009\n",
            "Epoch 43/50\n",
            "976/980 [============================>.] - ETA: 0s - loss: 0.5668 - accuracy: 0.8033\n",
            "Epoch 43: loss improved from 0.56489 to 0.56482, saving model to movie_names_model.h5\n",
            "980/980 [==============================] - 13s 13ms/step - loss: 0.5648 - accuracy: 0.8040\n",
            "Epoch 44/50\n",
            "979/980 [============================>.] - ETA: 0s - loss: 0.5658 - accuracy: 0.8049\n",
            "Epoch 44: loss did not improve from 0.56482\n",
            "980/980 [==============================] - 13s 13ms/step - loss: 0.5664 - accuracy: 0.8045\n",
            "Epoch 45/50\n",
            "980/980 [==============================] - ETA: 0s - loss: 0.5656 - accuracy: 0.8045\n",
            "Epoch 45: loss did not improve from 0.56482\n",
            "980/980 [==============================] - 12s 13ms/step - loss: 0.5656 - accuracy: 0.8045\n",
            "Epoch 46/50\n",
            "977/980 [============================>.] - ETA: 0s - loss: 0.5768 - accuracy: 0.8004\n",
            "Epoch 46: loss did not improve from 0.56482\n",
            "980/980 [==============================] - 12s 13ms/step - loss: 0.5771 - accuracy: 0.7999\n",
            "Epoch 47/50\n",
            "979/980 [============================>.] - ETA: 0s - loss: 0.5656 - accuracy: 0.8008\n",
            "Epoch 47: loss did not improve from 0.56482\n",
            "980/980 [==============================] - 12s 12ms/step - loss: 0.5653 - accuracy: 0.8009\n",
            "Epoch 48/50\n",
            "977/980 [============================>.] - ETA: 0s - loss: 0.5654 - accuracy: 0.8035\n",
            "Epoch 48: loss did not improve from 0.56482\n",
            "980/980 [==============================] - 12s 13ms/step - loss: 0.5668 - accuracy: 0.8025\n",
            "Epoch 49/50\n",
            "979/980 [============================>.] - ETA: 0s - loss: 0.5648 - accuracy: 0.8018\n",
            "Epoch 49: loss improved from 0.56482 to 0.56455, saving model to movie_names_model.h5\n",
            "980/980 [==============================] - 13s 13ms/step - loss: 0.5646 - accuracy: 0.8019\n",
            "Epoch 50/50\n",
            "978/980 [============================>.] - ETA: 0s - loss: 0.6046 - accuracy: 0.7960\n",
            "Epoch 50: loss did not improve from 0.56455\n",
            "980/980 [==============================] - 12s 13ms/step - loss: 0.6037 - accuracy: 0.7963\n"
          ]
        },
        {
          "output_type": "execute_result",
          "data": {
            "text/plain": [
              "<keras.callbacks.History at 0x7fdfe835b790>"
            ]
          },
          "metadata": {},
          "execution_count": 42
        }
      ]
    },
    {
      "cell_type": "code",
      "source": [
        "from keras.models import load_model\n",
        "import numpy as np\n",
        "import pickle\n",
        "\n",
        "# Load the model and tokenizer\n",
        "model = load_model('movie_names_model.h5')\n",
        "tokenizer = pickle.load(open('token.pkl', 'rb'))"
      ],
      "metadata": {
        "id": "2CJ2E8JDyRfn"
      },
      "execution_count": null,
      "outputs": []
    },
    {
      "cell_type": "code",
      "source": [
        "def predict_movie(model, tokenizer, text):\n",
        "  sequence = tokenizer.texts_to_sequences([text])\n",
        "  sequence = np.array(sequence)\n",
        "  preds = np.argmax(model.predict(sequence, verbose=0))\n",
        "  for key, value in tokenizer.word_index.items():\n",
        "      if value == preds:\n",
        "        predicted_word = key\n",
        "  return predicted_word"
      ],
      "metadata": {
        "id": "PwKe2Tahyi9t"
      },
      "execution_count": null,
      "outputs": []
    },
    {
      "cell_type": "code",
      "source": [
        "text = \"venom let there\"\n",
        "\n",
        "print(text, end=' ')\n",
        "for i in range(MAX_WORDS_FOR_PREDICTION):\n",
        "  next_word = predict_movie(model, tokenizer, text)\n",
        "  if next_word in text:\n",
        "    break\n",
        "  text = text + \" \" + next_word\n",
        "  print(next_word, end = ' ')"
      ],
      "metadata": {
        "id": "Po_hIOz9zC3k",
        "colab": {
          "base_uri": "https://localhost:8080/"
        },
        "outputId": "b6b67f3b-000e-4970-a60c-577cab59da69"
      },
      "execution_count": null,
      "outputs": [
        {
          "output_type": "stream",
          "name": "stdout",
          "text": [
            "venom let there be carnage king of "
          ]
        }
      ]
    }
  ]
}